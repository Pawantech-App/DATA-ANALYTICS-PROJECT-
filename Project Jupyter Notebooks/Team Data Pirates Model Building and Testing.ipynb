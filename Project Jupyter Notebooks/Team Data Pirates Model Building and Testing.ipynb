{
 "cells": [
  {
   "cell_type": "markdown",
   "metadata": {},
   "source": [
    "# **MODEL BUILDING AND TESTING BY TEAM DATA PIRATES**"
   ]
  },
  {
   "cell_type": "markdown",
   "metadata": {},
   "source": [
    "# Table of Contents:\n",
    "**1. Problem Statement </br>\n",
    "</br>\n",
    "2. Data Preprocessing and Data Visualization </br>\n",
    "        * Normalization and Standardization </br>\n",
    "        * Histogram, Scatter Plot and Heat Map </br>\n",
    "</br>\n",
    "3. Model Building and Cross Validation </br>\n",
    "        * Linear Regression Model and  Neural Network </br>\n",
    "        * Lasso and Ridge Regression Model </br>\n",
    "        * KNN Model </br>\n",
    "        * SVR Model </br>\n",
    "        * ANN Model </br>\n",
    "</br>\n",
    "4. Performance Metrics</br>\n",
    "        * RMSE</br>\n",
    "        * MAE</br>\n",
    "        * R^2 score </br>\n",
    "</br>\n",
    "5. Comparison Analysis among All Models based on Performance Metrics</br>\n",
    "</br>\n",
    "6. Conclusion**"
   ]
  },
  {
   "cell_type": "markdown",
   "metadata": {},
   "source": [
    "# Problem Statement"
   ]
  },
  {
   "cell_type": "markdown",
   "metadata": {},
   "source": [
    "Our Project objective is to predict the price of the model based on the given features of the camera model. We have used the various Machine Learning Algorithms Models like KNN (k-nearest neighbours), Linear Regression and SVR."
   ]
  },
  {
   "cell_type": "markdown",
   "metadata": {},
   "source": [
    "# Libraries for Model building and Testing"
   ]
  },
  {
   "cell_type": "code",
   "execution_count": 450,
   "metadata": {},
   "outputs": [],
   "source": [
    "import math\n",
    "import pandas as pd\n",
    "import matplotlib.pyplot  as plt\n",
    "import numpy as np\n",
    "import sklearn\n",
    "import sklearn.preprocessing as pre\n",
    "import sklearn.linear_model as lm\n",
    "import seaborn as sns\n",
    "import sklearn.datasets\n",
    "import sklearn.neighbors as nb\n",
    "import sklearn.pipeline as pipeline\n",
    "from sklearn.preprocessing import StandardScaler\n",
    "import sklearn.svm as svm\n",
    "import sklearn.neural_network as nn \n",
    "import sklearn.metrics as metrics\n",
    "import sklearn.tree as tree\n",
    "from sklearn.model_selection import cross_val_score"
   ]
  },
  {
   "cell_type": "code",
   "execution_count": 451,
   "metadata": {},
   "outputs": [],
   "source": [
    "df=pd.read_csv('E:\\PES COLLEGE\\SEM 5\\Data Analytics Project\\camera_dataset.csv')"
   ]
  },
  {
   "cell_type": "code",
   "execution_count": 452,
   "metadata": {},
   "outputs": [
    {
     "data": {
      "text/html": [
       "<div>\n",
       "<style scoped>\n",
       "    .dataframe tbody tr th:only-of-type {\n",
       "        vertical-align: middle;\n",
       "    }\n",
       "\n",
       "    .dataframe tbody tr th {\n",
       "        vertical-align: top;\n",
       "    }\n",
       "\n",
       "    .dataframe thead th {\n",
       "        text-align: right;\n",
       "    }\n",
       "</style>\n",
       "<table border=\"1\" class=\"dataframe\">\n",
       "  <thead>\n",
       "    <tr style=\"text-align: right;\">\n",
       "      <th></th>\n",
       "      <th>Model</th>\n",
       "      <th>Release date</th>\n",
       "      <th>Max resolution</th>\n",
       "      <th>Low resolution</th>\n",
       "      <th>Effective pixels</th>\n",
       "      <th>Zoom wide (W)</th>\n",
       "      <th>Zoom tele (T)</th>\n",
       "      <th>Normal focus range</th>\n",
       "      <th>Macro focus range</th>\n",
       "      <th>Storage included</th>\n",
       "      <th>Weight (inc. batteries)</th>\n",
       "      <th>Dimensions</th>\n",
       "      <th>Price</th>\n",
       "    </tr>\n",
       "  </thead>\n",
       "  <tbody>\n",
       "    <tr>\n",
       "      <th>0</th>\n",
       "      <td>Agfa ePhoto 1280</td>\n",
       "      <td>1997</td>\n",
       "      <td>1024.0</td>\n",
       "      <td>640.0</td>\n",
       "      <td>NaN</td>\n",
       "      <td>38.0</td>\n",
       "      <td>114.0</td>\n",
       "      <td>70.0</td>\n",
       "      <td>40.0</td>\n",
       "      <td>4.0</td>\n",
       "      <td>420.0</td>\n",
       "      <td>95.0</td>\n",
       "      <td>179</td>\n",
       "    </tr>\n",
       "    <tr>\n",
       "      <th>1</th>\n",
       "      <td>Agfa ePhoto 1680</td>\n",
       "      <td>1998</td>\n",
       "      <td>1280.0</td>\n",
       "      <td>640.0</td>\n",
       "      <td>1.0</td>\n",
       "      <td>38.0</td>\n",
       "      <td>114.0</td>\n",
       "      <td>50.0</td>\n",
       "      <td>NaN</td>\n",
       "      <td>4.0</td>\n",
       "      <td>420.0</td>\n",
       "      <td>158.0</td>\n",
       "      <td>179</td>\n",
       "    </tr>\n",
       "    <tr>\n",
       "      <th>2</th>\n",
       "      <td>Agfa ePhoto CL18</td>\n",
       "      <td>2000</td>\n",
       "      <td>640.0</td>\n",
       "      <td>NaN</td>\n",
       "      <td>NaN</td>\n",
       "      <td>45.0</td>\n",
       "      <td>45.0</td>\n",
       "      <td>NaN</td>\n",
       "      <td>NaN</td>\n",
       "      <td>2.0</td>\n",
       "      <td>NaN</td>\n",
       "      <td>NaN</td>\n",
       "      <td>179</td>\n",
       "    </tr>\n",
       "    <tr>\n",
       "      <th>3</th>\n",
       "      <td>Agfa ePhoto CL30</td>\n",
       "      <td>1999</td>\n",
       "      <td>1152.0</td>\n",
       "      <td>640.0</td>\n",
       "      <td>NaN</td>\n",
       "      <td>35.0</td>\n",
       "      <td>35.0</td>\n",
       "      <td>NaN</td>\n",
       "      <td>NaN</td>\n",
       "      <td>4.0</td>\n",
       "      <td>NaN</td>\n",
       "      <td>NaN</td>\n",
       "      <td>269</td>\n",
       "    </tr>\n",
       "    <tr>\n",
       "      <th>4</th>\n",
       "      <td>Agfa ePhoto CL30 Clik!</td>\n",
       "      <td>1999</td>\n",
       "      <td>1152.0</td>\n",
       "      <td>640.0</td>\n",
       "      <td>NaN</td>\n",
       "      <td>43.0</td>\n",
       "      <td>43.0</td>\n",
       "      <td>50.0</td>\n",
       "      <td>NaN</td>\n",
       "      <td>40.0</td>\n",
       "      <td>300.0</td>\n",
       "      <td>128.0</td>\n",
       "      <td>1299</td>\n",
       "    </tr>\n",
       "    <tr>\n",
       "      <th>...</th>\n",
       "      <td>...</td>\n",
       "      <td>...</td>\n",
       "      <td>...</td>\n",
       "      <td>...</td>\n",
       "      <td>...</td>\n",
       "      <td>...</td>\n",
       "      <td>...</td>\n",
       "      <td>...</td>\n",
       "      <td>...</td>\n",
       "      <td>...</td>\n",
       "      <td>...</td>\n",
       "      <td>...</td>\n",
       "      <td>...</td>\n",
       "    </tr>\n",
       "    <tr>\n",
       "      <th>1033</th>\n",
       "      <td>Toshiba PDR-M65</td>\n",
       "      <td>2001</td>\n",
       "      <td>2048.0</td>\n",
       "      <td>1024.0</td>\n",
       "      <td>3.0</td>\n",
       "      <td>38.0</td>\n",
       "      <td>114.0</td>\n",
       "      <td>10.0</td>\n",
       "      <td>10.0</td>\n",
       "      <td>8.0</td>\n",
       "      <td>320.0</td>\n",
       "      <td>120.0</td>\n",
       "      <td>62</td>\n",
       "    </tr>\n",
       "    <tr>\n",
       "      <th>1034</th>\n",
       "      <td>Toshiba PDR-M70</td>\n",
       "      <td>2000</td>\n",
       "      <td>2048.0</td>\n",
       "      <td>1024.0</td>\n",
       "      <td>3.0</td>\n",
       "      <td>35.0</td>\n",
       "      <td>105.0</td>\n",
       "      <td>80.0</td>\n",
       "      <td>9.0</td>\n",
       "      <td>16.0</td>\n",
       "      <td>390.0</td>\n",
       "      <td>116.0</td>\n",
       "      <td>62</td>\n",
       "    </tr>\n",
       "    <tr>\n",
       "      <th>1035</th>\n",
       "      <td>Toshiba PDR-M71</td>\n",
       "      <td>2001</td>\n",
       "      <td>2048.0</td>\n",
       "      <td>1024.0</td>\n",
       "      <td>3.0</td>\n",
       "      <td>35.0</td>\n",
       "      <td>98.0</td>\n",
       "      <td>80.0</td>\n",
       "      <td>10.0</td>\n",
       "      <td>8.0</td>\n",
       "      <td>340.0</td>\n",
       "      <td>107.0</td>\n",
       "      <td>62</td>\n",
       "    </tr>\n",
       "    <tr>\n",
       "      <th>1036</th>\n",
       "      <td>Toshiba PDR-M81</td>\n",
       "      <td>2001</td>\n",
       "      <td>2400.0</td>\n",
       "      <td>1200.0</td>\n",
       "      <td>3.0</td>\n",
       "      <td>35.0</td>\n",
       "      <td>98.0</td>\n",
       "      <td>80.0</td>\n",
       "      <td>10.0</td>\n",
       "      <td>16.0</td>\n",
       "      <td>340.0</td>\n",
       "      <td>107.0</td>\n",
       "      <td>62</td>\n",
       "    </tr>\n",
       "    <tr>\n",
       "      <th>1037</th>\n",
       "      <td>Toshiba PDR-T10</td>\n",
       "      <td>2002</td>\n",
       "      <td>1600.0</td>\n",
       "      <td>800.0</td>\n",
       "      <td>1.0</td>\n",
       "      <td>38.0</td>\n",
       "      <td>38.0</td>\n",
       "      <td>40.0</td>\n",
       "      <td>20.0</td>\n",
       "      <td>8.0</td>\n",
       "      <td>180.0</td>\n",
       "      <td>86.0</td>\n",
       "      <td>129</td>\n",
       "    </tr>\n",
       "  </tbody>\n",
       "</table>\n",
       "<p>1038 rows × 13 columns</p>\n",
       "</div>"
      ],
      "text/plain": [
       "                       Model  Release date  Max resolution  Low resolution  \\\n",
       "0           Agfa ePhoto 1280          1997          1024.0           640.0   \n",
       "1           Agfa ePhoto 1680          1998          1280.0           640.0   \n",
       "2           Agfa ePhoto CL18          2000           640.0             NaN   \n",
       "3           Agfa ePhoto CL30          1999          1152.0           640.0   \n",
       "4     Agfa ePhoto CL30 Clik!          1999          1152.0           640.0   \n",
       "...                      ...           ...             ...             ...   \n",
       "1033         Toshiba PDR-M65          2001          2048.0          1024.0   \n",
       "1034         Toshiba PDR-M70          2000          2048.0          1024.0   \n",
       "1035         Toshiba PDR-M71          2001          2048.0          1024.0   \n",
       "1036         Toshiba PDR-M81          2001          2400.0          1200.0   \n",
       "1037         Toshiba PDR-T10          2002          1600.0           800.0   \n",
       "\n",
       "      Effective pixels  Zoom wide (W)  Zoom tele (T)  Normal focus range  \\\n",
       "0                  NaN           38.0          114.0                70.0   \n",
       "1                  1.0           38.0          114.0                50.0   \n",
       "2                  NaN           45.0           45.0                 NaN   \n",
       "3                  NaN           35.0           35.0                 NaN   \n",
       "4                  NaN           43.0           43.0                50.0   \n",
       "...                ...            ...            ...                 ...   \n",
       "1033               3.0           38.0          114.0                10.0   \n",
       "1034               3.0           35.0          105.0                80.0   \n",
       "1035               3.0           35.0           98.0                80.0   \n",
       "1036               3.0           35.0           98.0                80.0   \n",
       "1037               1.0           38.0           38.0                40.0   \n",
       "\n",
       "      Macro focus range  Storage included  Weight (inc. batteries)  \\\n",
       "0                  40.0               4.0                    420.0   \n",
       "1                   NaN               4.0                    420.0   \n",
       "2                   NaN               2.0                      NaN   \n",
       "3                   NaN               4.0                      NaN   \n",
       "4                   NaN              40.0                    300.0   \n",
       "...                 ...               ...                      ...   \n",
       "1033               10.0               8.0                    320.0   \n",
       "1034                9.0              16.0                    390.0   \n",
       "1035               10.0               8.0                    340.0   \n",
       "1036               10.0              16.0                    340.0   \n",
       "1037               20.0               8.0                    180.0   \n",
       "\n",
       "      Dimensions  Price  \n",
       "0           95.0    179  \n",
       "1          158.0    179  \n",
       "2            NaN    179  \n",
       "3            NaN    269  \n",
       "4          128.0   1299  \n",
       "...          ...    ...  \n",
       "1033       120.0     62  \n",
       "1034       116.0     62  \n",
       "1035       107.0     62  \n",
       "1036       107.0     62  \n",
       "1037        86.0    129  \n",
       "\n",
       "[1038 rows x 13 columns]"
      ]
     },
     "execution_count": 452,
     "metadata": {},
     "output_type": "execute_result"
    }
   ],
   "source": [
    "df"
   ]
  },
  {
   "cell_type": "markdown",
   "metadata": {},
   "source": [
    "# Data Preprocessing "
   ]
  },
  {
   "cell_type": "code",
   "execution_count": 453,
   "metadata": {},
   "outputs": [],
   "source": [
    "for i in df:\n",
    "       if(i==\"Model\"):\n",
    "            continue;\n",
    "       if(i=='Price' or i=='Weight (inc. batteries)'):\n",
    "           df[i].fillna(df[i].mean(),inplace=True)\n",
    "       else:\n",
    "           df[i].fillna(int(df[i].mean()),inplace=True)\n"
   ]
  },
  {
   "cell_type": "markdown",
   "metadata": {},
   "source": [
    "# Normalization of the Data"
   ]
  },
  {
   "cell_type": "markdown",
   "metadata": {},
   "source": [
    "We have took only the features which shows more correlation among them for price prediction of the camera models."
   ]
  },
  {
   "cell_type": "code",
   "execution_count": 454,
   "metadata": {},
   "outputs": [],
   "source": [
    "numeric_dataset = df[['Max resolution','Low resolution','Effective pixels','Weight (inc. batteries)','Dimensions','Price']]\n",
    "df=(numeric_dataset-numeric_dataset.mean())/numeric_dataset.std()\n"
   ]
  },
  {
   "cell_type": "markdown",
   "metadata": {},
   "source": [
    "Random sampling"
   ]
  },
  {
   "cell_type": "code",
   "execution_count": 455,
   "metadata": {},
   "outputs": [],
   "source": [
    "df=df.sample(frac=1)"
   ]
  },
  {
   "cell_type": "code",
   "execution_count": 456,
   "metadata": {},
   "outputs": [
    {
     "data": {
      "text/plain": [
       "0"
      ]
     },
     "execution_count": 456,
     "metadata": {},
     "output_type": "execute_result"
    }
   ],
   "source": [
    "df.isnull().sum().sum()"
   ]
  },
  {
   "cell_type": "code",
   "execution_count": 457,
   "metadata": {},
   "outputs": [
    {
     "data": {
      "text/html": [
       "<div>\n",
       "<style scoped>\n",
       "    .dataframe tbody tr th:only-of-type {\n",
       "        vertical-align: middle;\n",
       "    }\n",
       "\n",
       "    .dataframe tbody tr th {\n",
       "        vertical-align: top;\n",
       "    }\n",
       "\n",
       "    .dataframe thead th {\n",
       "        text-align: right;\n",
       "    }\n",
       "</style>\n",
       "<table border=\"1\" class=\"dataframe\">\n",
       "  <thead>\n",
       "    <tr style=\"text-align: right;\">\n",
       "      <th></th>\n",
       "      <th>Max resolution</th>\n",
       "      <th>Low resolution</th>\n",
       "      <th>Effective pixels</th>\n",
       "      <th>Weight (inc. batteries)</th>\n",
       "      <th>Dimensions</th>\n",
       "      <th>Price</th>\n",
       "    </tr>\n",
       "  </thead>\n",
       "  <tbody>\n",
       "    <tr>\n",
       "      <th>351</th>\n",
       "      <td>-0.186681</td>\n",
       "      <td>0.601515</td>\n",
       "      <td>-0.269358</td>\n",
       "      <td>-0.569635</td>\n",
       "      <td>-0.756733</td>\n",
       "      <td>-0.431827</td>\n",
       "    </tr>\n",
       "    <tr>\n",
       "      <th>434</th>\n",
       "      <td>0.121678</td>\n",
       "      <td>0.979610</td>\n",
       "      <td>0.099013</td>\n",
       "      <td>-0.686787</td>\n",
       "      <td>-0.708822</td>\n",
       "      <td>-0.435772</td>\n",
       "    </tr>\n",
       "    <tr>\n",
       "      <th>599</th>\n",
       "      <td>-0.250206</td>\n",
       "      <td>0.245662</td>\n",
       "      <td>-0.637729</td>\n",
       "      <td>0.055175</td>\n",
       "      <td>0.057766</td>\n",
       "      <td>-0.011026</td>\n",
       "    </tr>\n",
       "    <tr>\n",
       "      <th>115</th>\n",
       "      <td>0.787363</td>\n",
       "      <td>1.001851</td>\n",
       "      <td>0.835755</td>\n",
       "      <td>-0.511060</td>\n",
       "      <td>-0.804645</td>\n",
       "      <td>-0.096501</td>\n",
       "    </tr>\n",
       "    <tr>\n",
       "      <th>169</th>\n",
       "      <td>-0.567829</td>\n",
       "      <td>-1.177753</td>\n",
       "      <td>-0.637729</td>\n",
       "      <td>0.133276</td>\n",
       "      <td>1.303472</td>\n",
       "      <td>-0.274027</td>\n",
       "    </tr>\n",
       "    <tr>\n",
       "      <th>...</th>\n",
       "      <td>...</td>\n",
       "      <td>...</td>\n",
       "      <td>...</td>\n",
       "      <td>...</td>\n",
       "      <td>...</td>\n",
       "      <td>...</td>\n",
       "    </tr>\n",
       "    <tr>\n",
       "      <th>10</th>\n",
       "      <td>-1.584224</td>\n",
       "      <td>-1.177753</td>\n",
       "      <td>-1.374472</td>\n",
       "      <td>-0.393908</td>\n",
       "      <td>0.153590</td>\n",
       "      <td>-0.418677</td>\n",
       "    </tr>\n",
       "    <tr>\n",
       "      <th>61</th>\n",
       "      <td>1.867282</td>\n",
       "      <td>1.313223</td>\n",
       "      <td>1.940869</td>\n",
       "      <td>1.937416</td>\n",
       "      <td>1.878413</td>\n",
       "      <td>1.106729</td>\n",
       "    </tr>\n",
       "    <tr>\n",
       "      <th>948</th>\n",
       "      <td>-1.160726</td>\n",
       "      <td>-0.821899</td>\n",
       "      <td>-1.374472</td>\n",
       "      <td>-0.198654</td>\n",
       "      <td>0.968090</td>\n",
       "      <td>-0.037326</td>\n",
       "    </tr>\n",
       "    <tr>\n",
       "      <th>378</th>\n",
       "      <td>-1.753623</td>\n",
       "      <td>-1.711533</td>\n",
       "      <td>-0.269358</td>\n",
       "      <td>-0.022926</td>\n",
       "      <td>0.393149</td>\n",
       "      <td>-0.431827</td>\n",
       "    </tr>\n",
       "    <tr>\n",
       "      <th>735</th>\n",
       "      <td>-0.229031</td>\n",
       "      <td>-0.377082</td>\n",
       "      <td>-0.269358</td>\n",
       "      <td>-0.397813</td>\n",
       "      <td>-0.277616</td>\n",
       "      <td>-0.405527</td>\n",
       "    </tr>\n",
       "  </tbody>\n",
       "</table>\n",
       "<p>1038 rows × 6 columns</p>\n",
       "</div>"
      ],
      "text/plain": [
       "     Max resolution  Low resolution  Effective pixels  \\\n",
       "351       -0.186681        0.601515         -0.269358   \n",
       "434        0.121678        0.979610          0.099013   \n",
       "599       -0.250206        0.245662         -0.637729   \n",
       "115        0.787363        1.001851          0.835755   \n",
       "169       -0.567829       -1.177753         -0.637729   \n",
       "..              ...             ...               ...   \n",
       "10        -1.584224       -1.177753         -1.374472   \n",
       "61         1.867282        1.313223          1.940869   \n",
       "948       -1.160726       -0.821899         -1.374472   \n",
       "378       -1.753623       -1.711533         -0.269358   \n",
       "735       -0.229031       -0.377082         -0.269358   \n",
       "\n",
       "     Weight (inc. batteries)  Dimensions     Price  \n",
       "351                -0.569635   -0.756733 -0.431827  \n",
       "434                -0.686787   -0.708822 -0.435772  \n",
       "599                 0.055175    0.057766 -0.011026  \n",
       "115                -0.511060   -0.804645 -0.096501  \n",
       "169                 0.133276    1.303472 -0.274027  \n",
       "..                       ...         ...       ...  \n",
       "10                 -0.393908    0.153590 -0.418677  \n",
       "61                  1.937416    1.878413  1.106729  \n",
       "948                -0.198654    0.968090 -0.037326  \n",
       "378                -0.022926    0.393149 -0.431827  \n",
       "735                -0.397813   -0.277616 -0.405527  \n",
       "\n",
       "[1038 rows x 6 columns]"
      ]
     },
     "execution_count": 457,
     "metadata": {},
     "output_type": "execute_result"
    }
   ],
   "source": [
    "df"
   ]
  },
  {
   "cell_type": "code",
   "execution_count": 458,
   "metadata": {},
   "outputs": [
    {
     "data": {
      "text/html": [
       "<div>\n",
       "<style scoped>\n",
       "    .dataframe tbody tr th:only-of-type {\n",
       "        vertical-align: middle;\n",
       "    }\n",
       "\n",
       "    .dataframe tbody tr th {\n",
       "        vertical-align: top;\n",
       "    }\n",
       "\n",
       "    .dataframe thead th {\n",
       "        text-align: right;\n",
       "    }\n",
       "</style>\n",
       "<table border=\"1\" class=\"dataframe\">\n",
       "  <thead>\n",
       "    <tr style=\"text-align: right;\">\n",
       "      <th></th>\n",
       "      <th>Max resolution</th>\n",
       "      <th>Low resolution</th>\n",
       "      <th>Effective pixels</th>\n",
       "      <th>Weight (inc. batteries)</th>\n",
       "      <th>Dimensions</th>\n",
       "      <th>Price</th>\n",
       "    </tr>\n",
       "  </thead>\n",
       "  <tbody>\n",
       "    <tr>\n",
       "      <th>count</th>\n",
       "      <td>1.038000e+03</td>\n",
       "      <td>1.038000e+03</td>\n",
       "      <td>1.038000e+03</td>\n",
       "      <td>1.038000e+03</td>\n",
       "      <td>1.038000e+03</td>\n",
       "      <td>1.038000e+03</td>\n",
       "    </tr>\n",
       "    <tr>\n",
       "      <th>mean</th>\n",
       "      <td>1.004067e-16</td>\n",
       "      <td>-9.647603e-17</td>\n",
       "      <td>-1.187233e-16</td>\n",
       "      <td>-9.720334e-16</td>\n",
       "      <td>3.432814e-16</td>\n",
       "      <td>-7.433574e-17</td>\n",
       "    </tr>\n",
       "    <tr>\n",
       "      <th>std</th>\n",
       "      <td>1.000000e+00</td>\n",
       "      <td>1.000000e+00</td>\n",
       "      <td>1.000000e+00</td>\n",
       "      <td>1.000000e+00</td>\n",
       "      <td>1.000000e+00</td>\n",
       "      <td>1.000000e+00</td>\n",
       "    </tr>\n",
       "    <tr>\n",
       "      <th>min</th>\n",
       "      <td>-2.600618e+00</td>\n",
       "      <td>-2.156350e+00</td>\n",
       "      <td>-1.374472e+00</td>\n",
       "      <td>-8.820407e-01</td>\n",
       "      <td>-3.679350e+00</td>\n",
       "      <td>-5.830531e-01</td>\n",
       "    </tr>\n",
       "    <tr>\n",
       "      <th>25%</th>\n",
       "      <td>-5.678294e-01</td>\n",
       "      <td>-7.996583e-01</td>\n",
       "      <td>-6.377293e-01</td>\n",
       "      <td>-5.637779e-01</td>\n",
       "      <td>-6.968437e-01</td>\n",
       "      <td>-4.055273e-01</td>\n",
       "    </tr>\n",
       "    <tr>\n",
       "      <th>50%</th>\n",
       "      <td>1.097669e-01</td>\n",
       "      <td>2.456618e-01</td>\n",
       "      <td>-2.693581e-01</td>\n",
       "      <td>-3.743822e-01</td>\n",
       "      <td>-1.817923e-01</td>\n",
       "      <td>-3.397770e-01</td>\n",
       "    </tr>\n",
       "    <tr>\n",
       "      <th>75%</th>\n",
       "      <td>7.873632e-01</td>\n",
       "      <td>9.573691e-01</td>\n",
       "      <td>8.357554e-01</td>\n",
       "      <td>8.446290e-02</td>\n",
       "      <td>3.931487e-01</td>\n",
       "      <td>-7.677582e-02</td>\n",
       "    </tr>\n",
       "    <tr>\n",
       "      <th>max</th>\n",
       "      <td>4.154170e+00</td>\n",
       "      <td>4.337979e+00</td>\n",
       "      <td>5.992952e+00</td>\n",
       "      <td>5.990874e+00</td>\n",
       "      <td>6.382118e+00</td>\n",
       "      <td>9.917268e+00</td>\n",
       "    </tr>\n",
       "  </tbody>\n",
       "</table>\n",
       "</div>"
      ],
      "text/plain": [
       "       Max resolution  Low resolution  Effective pixels  \\\n",
       "count    1.038000e+03    1.038000e+03      1.038000e+03   \n",
       "mean     1.004067e-16   -9.647603e-17     -1.187233e-16   \n",
       "std      1.000000e+00    1.000000e+00      1.000000e+00   \n",
       "min     -2.600618e+00   -2.156350e+00     -1.374472e+00   \n",
       "25%     -5.678294e-01   -7.996583e-01     -6.377293e-01   \n",
       "50%      1.097669e-01    2.456618e-01     -2.693581e-01   \n",
       "75%      7.873632e-01    9.573691e-01      8.357554e-01   \n",
       "max      4.154170e+00    4.337979e+00      5.992952e+00   \n",
       "\n",
       "       Weight (inc. batteries)    Dimensions         Price  \n",
       "count             1.038000e+03  1.038000e+03  1.038000e+03  \n",
       "mean             -9.720334e-16  3.432814e-16 -7.433574e-17  \n",
       "std               1.000000e+00  1.000000e+00  1.000000e+00  \n",
       "min              -8.820407e-01 -3.679350e+00 -5.830531e-01  \n",
       "25%              -5.637779e-01 -6.968437e-01 -4.055273e-01  \n",
       "50%              -3.743822e-01 -1.817923e-01 -3.397770e-01  \n",
       "75%               8.446290e-02  3.931487e-01 -7.677582e-02  \n",
       "max               5.990874e+00  6.382118e+00  9.917268e+00  "
      ]
     },
     "execution_count": 458,
     "metadata": {},
     "output_type": "execute_result"
    }
   ],
   "source": [
    "df.describe()"
   ]
  },
  {
   "cell_type": "markdown",
   "metadata": {},
   "source": [
    "# Data Visualization"
   ]
  },
  {
   "cell_type": "markdown",
   "metadata": {},
   "source": [
    "Histogram"
   ]
  },
  {
   "cell_type": "code",
   "execution_count": 459,
   "metadata": {},
   "outputs": [
    {
     "data": {
      "text/plain": [
       "array([[<AxesSubplot:title={'center':'Max resolution'}>,\n",
       "        <AxesSubplot:title={'center':'Low resolution'}>],\n",
       "       [<AxesSubplot:title={'center':'Weight (inc. batteries)'}>,\n",
       "        <AxesSubplot:title={'center':'Dimensions'}>],\n",
       "       [<AxesSubplot:title={'center':'Price'}>, <AxesSubplot:>]],\n",
       "      dtype=object)"
      ]
     },
     "execution_count": 459,
     "metadata": {},
     "output_type": "execute_result"
    },
    {
     "data": {
      "image/png": "[encoded data removed]",
      "text/plain": [
       "<Figure size 720x720 with 6 Axes>"
      ]
     },
     "metadata": {
      "needs_background": "light"
     },
     "output_type": "display_data"
    }
   ],
   "source": [
    "df.hist(column=[\"Max resolution\",\"Low resolution\",\"Weight (inc. batteries)\",\"Dimensions\",\"Price\"],bins=20,figsize=(10,10))"
   ]
  },
  {
   "cell_type": "markdown",
   "metadata": {},
   "source": [
    "Correlation Graph: Heat map"
   ]
  },
  {
   "cell_type": "code",
   "execution_count": 460,
   "metadata": {},
   "outputs": [
    {
     "data": {
      "image/png": "[encoded data removed]",
      "text/plain": [
       "<Figure size 576x576 with 2 Axes>"
      ]
     },
     "metadata": {
      "needs_background": "light"
     },
     "output_type": "display_data"
    }
   ],
   "source": [
    "df_corr=df.corr(method='pearson')\n",
    "fig, ax = plt.subplots(figsize=(8,8))\n",
    "sns.heatmap(df_corr, annot=True, ax=ax)\n",
    "plt.title('Correlation for camera attributes')\n",
    "plt.show()"
   ]
  },
  {
   "cell_type": "markdown",
   "metadata": {},
   "source": [
    "Scatter Plot"
   ]
  },
  {
   "cell_type": "code",
   "execution_count": 461,
   "metadata": {},
   "outputs": [
    {
     "data": {
      "image/png": "[encoded data removed]",
      "text/plain": [
       "<Figure size 1080x1080 with 2 Axes>"
      ]
     },
     "metadata": {
      "needs_background": "light"
     },
     "output_type": "display_data"
    }
   ],
   "source": [
    "fig= plt.figure(figsize=(15,15))\n",
    "ax2=fig.add_subplot(331)\n",
    "plt.scatter(df['Low resolution'], df['Max resolution'])\n",
    "plt.title('Low ressolution & High Resolution')\n",
    "plt.xlabel('Low Resolution')\n",
    "plt.ylabel('Max Resolution')\n",
    "ax2=fig.add_subplot(332)\n",
    "plt.scatter(df[\"Effective pixels\"], df['Max resolution'])\n",
    "plt.title('Effective pixels & Max resolution ')\n",
    "plt.xlabel('Effective pixels')\n",
    "plt.ylabel('Max resolution')\n",
    "plt.show()"
   ]
  },
  {
   "cell_type": "markdown",
   "metadata": {},
   "source": [
    "# MODEL BUILDING AND CROSS VALIDATION (using K- fold CROSS-VALIDATION for all models)"
   ]
  },
  {
   "cell_type": "code",
   "execution_count": 462,
   "metadata": {},
   "outputs": [],
   "source": [
    "X=df.drop('Price',axis=1)\n",
    "Y=df['Price']"
   ]
  },
  {
   "cell_type": "markdown",
   "metadata": {},
   "source": [
    "# LINEAR REGRESSION MODEL"
   ]
  },
  {
   "cell_type": "code",
   "execution_count": 463,
   "metadata": {},
   "outputs": [],
   "source": [
    "\n",
    "pipe_lr=pipeline.Pipeline([('scaler',StandardScaler()),('model',lm.LinearRegression())])"
   ]
  },
  {
   "cell_type": "markdown",
   "metadata": {},
   "source": [
    "# RMSE scores "
   ]
  },
  {
   "cell_type": "code",
   "execution_count": 464,
   "metadata": {},
   "outputs": [
    {
     "name": "stdout",
     "output_type": "stream",
     "text": [
      "[0.86701792 0.74446099 0.92885055 0.94679    0.88984531]\n",
      "0.8753929537278434\n"
     ]
    }
   ],
   "source": [
    "rmse_scores = -1*cross_val_score(pipe_lr, X,Y, cv=5,scoring='neg_root_mean_squared_error')\n",
    "print(rmse_scores)\n",
    "sum=0\n",
    "for i in rmse_scores:\n",
    "    sum=sum+i\n",
    "avg=sum/5.0\n",
    "print(avg)"
   ]
  },
  {
   "cell_type": "markdown",
   "metadata": {},
   "source": [
    "# MAE scores"
   ]
  },
  {
   "cell_type": "code",
   "execution_count": 465,
   "metadata": {},
   "outputs": [
    {
     "name": "stdout",
     "output_type": "stream",
     "text": [
      "[0.47147306 0.43558183 0.43714886 0.48243376 0.51011537]\n",
      "0.4673505741093352\n"
     ]
    }
   ],
   "source": [
    "mae_scores= -1*cross_val_score(pipe_lr, X,Y, cv=5,scoring='neg_mean_absolute_error')\n",
    "print(mae_scores)\n",
    "sum=0\n",
    "for i in mae_scores:\n",
    "    sum=sum+i\n",
    "avg=sum/5.0\n",
    "print(avg)"
   ]
  },
  {
   "cell_type": "markdown",
   "metadata": {},
   "source": [
    "# Rsquare scores"
   ]
  },
  {
   "cell_type": "code",
   "execution_count": 466,
   "metadata": {},
   "outputs": [
    {
     "name": "stdout",
     "output_type": "stream",
     "text": [
      "[ 0.20618638 -0.23854804  0.24627787  0.30576868  0.30925079]\n",
      "0.16578713499426906\n"
     ]
    }
   ],
   "source": [
    "r2_score = cross_val_score(pipe_lr, X,Y, cv=5,scoring='r2')\n",
    "print(r2_score)\n",
    "sum=0\n",
    "for i in r2_score:\n",
    "    sum=sum+i\n",
    "avg=sum/5.0\n",
    "print(avg)"
   ]
  },
  {
   "cell_type": "markdown",
   "metadata": {},
   "source": [
    "# RIDGE AND LASSO REGRESSION MODEL"
   ]
  },
  {
   "cell_type": "code",
   "execution_count": 467,
   "metadata": {},
   "outputs": [],
   "source": [
    "from sklearn.linear_model import Lasso,Ridge"
   ]
  },
  {
   "cell_type": "code",
   "execution_count": 468,
   "metadata": {},
   "outputs": [],
   "source": [
    "pipe_la = pipeline.Pipeline([('scaler',StandardScaler()),('model',Lasso())])\n",
    "pipe_ri = pipeline.Pipeline([('scaler',StandardScaler()),('model',Ridge())])"
   ]
  },
  {
   "cell_type": "markdown",
   "metadata": {},
   "source": [
    "# Rsquare scores for Lasso Regression"
   ]
  },
  {
   "cell_type": "code",
   "execution_count": 469,
   "metadata": {},
   "outputs": [
    {
     "name": "stdout",
     "output_type": "stream",
     "text": [
      "[-3.91438198e-05 -3.78857108e-02 -7.74565359e-04 -4.13388572e-04\n",
      " -1.21022814e-02]\n",
      "-0.010243017990154346\n"
     ]
    }
   ],
   "source": [
    "la_r2=cross_val_score(pipe_la,X,Y,cv=5,scoring='r2')\n",
    "print(la_r2)\n",
    "sum=0\n",
    "for i in la_r2:\n",
    "    sum=sum+i\n",
    "avg=sum/5.0\n",
    "print(avg)\n"
   ]
  },
  {
   "cell_type": "markdown",
   "metadata": {},
   "source": [
    "# Rsquare scores for Ridge Regression"
   ]
  },
  {
   "cell_type": "code",
   "execution_count": 470,
   "metadata": {},
   "outputs": [
    {
     "name": "stdout",
     "output_type": "stream",
     "text": [
      "[ 0.20623137 -0.23641549  0.2463433   0.30543766  0.30910046]\n",
      "0.16613946065984714\n"
     ]
    }
   ],
   "source": [
    "ri_r2=cross_val_score(pipe_ri,X,Y,cv=5,scoring='r2')\n",
    "print(ri_r2)\n",
    "sum=0\n",
    "for i in ri_r2:\n",
    "    sum=sum+i\n",
    "avg=sum/5.0\n",
    "print(avg)"
   ]
  },
  {
   "cell_type": "markdown",
   "metadata": {},
   "source": [
    "# KNN REGRESSION MODEL"
   ]
  },
  {
   "cell_type": "code",
   "execution_count": 471,
   "metadata": {},
   "outputs": [],
   "source": [
    "pipe_knn=pipeline.Pipeline([('scaler',StandardScaler()),('model',nb.KNeighborsRegressor(n_neighbors=5,p=1,weights='distance',metric='chebyshev'))])"
   ]
  },
  {
   "cell_type": "markdown",
   "metadata": {},
   "source": [
    "# RMSE scores"
   ]
  },
  {
   "cell_type": "code",
   "execution_count": 472,
   "metadata": {},
   "outputs": [
    {
     "name": "stdout",
     "output_type": "stream",
     "text": [
      "[0.77460538 0.57576223 0.88025254 0.69594886 0.7178016 ]\n",
      "0.7288741229521428\n"
     ]
    }
   ],
   "source": [
    "knn_rmse = -1*cross_val_score(pipe_knn, X,Y, cv=5,scoring='neg_root_mean_squared_error')\n",
    "print(knn_rmse)\n",
    "sum=0\n",
    "for i in knn_rmse:\n",
    "    sum=sum+i\n",
    "avg=sum/5\n",
    "print(avg)\n"
   ]
  },
  {
   "cell_type": "markdown",
   "metadata": {},
   "source": [
    "# MAE scores"
   ]
  },
  {
   "cell_type": "code",
   "execution_count": 473,
   "metadata": {},
   "outputs": [
    {
     "name": "stdout",
     "output_type": "stream",
     "text": [
      "[0.37328099 0.3091065  0.37930907 0.36782261 0.38927704]\n",
      "0.36375924262816794\n"
     ]
    }
   ],
   "source": [
    "knn_mae = -1*cross_val_score(pipe_knn, X,Y, cv=5,scoring='neg_mean_absolute_error')\n",
    "print(knn_mae)\n",
    "sum=0\n",
    "for i in knn_mae:\n",
    "    sum=sum+i\n",
    "avg=sum/5\n",
    "print(avg)"
   ]
  },
  {
   "cell_type": "markdown",
   "metadata": {},
   "source": [
    "# Rsquare scores"
   ]
  },
  {
   "cell_type": "code",
   "execution_count": 474,
   "metadata": {},
   "outputs": [
    {
     "name": "stdout",
     "output_type": "stream",
     "text": [
      "[0.36638797 0.25917554 0.32308497 0.62489614 0.55053051]\n",
      "0.424815025578428\n"
     ]
    }
   ],
   "source": [
    "knn_r2 = cross_val_score(pipe_knn,X,Y,cv=5,scoring='r2')\n",
    "print(knn_r2)\n",
    "sum=0\n",
    "for i in knn_r2:\n",
    "    sum=sum+i\n",
    "avg=sum/5\n",
    "print(avg)\n"
   ]
  },
  {
   "cell_type": "markdown",
   "metadata": {},
   "source": [
    "# SVR MODEL"
   ]
  },
  {
   "cell_type": "code",
   "execution_count": 475,
   "metadata": {},
   "outputs": [],
   "source": [
    "pipe_svr=pipeline.Pipeline([('scaler',StandardScaler()),('model',svm.SVR(kernel='linear',gamma='scale',C=4))])"
   ]
  },
  {
   "cell_type": "markdown",
   "metadata": {},
   "source": [
    "# RMSE scores"
   ]
  },
  {
   "cell_type": "code",
   "execution_count": 476,
   "metadata": {},
   "outputs": [
    {
     "name": "stdout",
     "output_type": "stream",
     "text": [
      "[0.9421007  0.63884119 1.03963047 1.05735892 1.03727233]\n",
      "0.9430407194975864\n"
     ]
    }
   ],
   "source": [
    "svr_rmse = -1*cross_val_score(pipe_svr,X,Y,scoring='neg_root_mean_squared_error')\n",
    "print(svr_rmse)\n",
    "sum=0\n",
    "for i in svr_rmse:\n",
    "    sum=sum+i\n",
    "avg=sum/5\n",
    "print(avg)"
   ]
  },
  {
   "cell_type": "markdown",
   "metadata": {},
   "source": [
    "# MAE scores"
   ]
  },
  {
   "cell_type": "code",
   "execution_count": 477,
   "metadata": {},
   "outputs": [
    {
     "name": "stdout",
     "output_type": "stream",
     "text": [
      "[0.39857707 0.3078853  0.39524274 0.40496458 0.48108075]\n",
      "0.3975500881678998\n"
     ]
    }
   ],
   "source": [
    "svr_mae = -1*cross_val_score(pipe_svr,X,Y,cv=5,scoring='neg_mean_absolute_error')\n",
    "print(svr_mae)\n",
    "sum=0\n",
    "for i in svr_mae:\n",
    "    sum=sum+i\n",
    "avg=sum/5\n",
    "print(avg)"
   ]
  },
  {
   "cell_type": "markdown",
   "metadata": {},
   "source": [
    "# Rsquare scores"
   ]
  },
  {
   "cell_type": "code",
   "execution_count": 478,
   "metadata": {},
   "outputs": [
    {
     "name": "stdout",
     "output_type": "stream",
     "text": [
      "[0.06274654 0.08795811 0.05577047 0.13415183 0.06140779]\n",
      "0.08040694712717307\n"
     ]
    }
   ],
   "source": [
    "svr_r2 = cross_val_score(pipe_svr,X,Y,cv=5,scoring='r2')\n",
    "print(svr_r2)\n",
    "sum=0\n",
    "for i in svr_r2:\n",
    "    sum=sum+i\n",
    "avg=sum/5\n",
    "print(avg)"
   ]
  },
  {
   "cell_type": "markdown",
   "metadata": {},
   "source": [
    "# NEURAL  NETWORK MODEL (Just a trial,didn't really work for our data and takes too much time for execution)"
   ]
  },
  {
   "cell_type": "code",
   "execution_count": 479,
   "metadata": {},
   "outputs": [],
   "source": [
    "#pipe_nn=pipeline.Pipeline([('scaler',StandardScaler()),('model',nn.MLPRegressor(hidden_layer_sizes=300,max_iter=50000,n_iter_no_change=100000,verbose=True))])\n",
    "#nn_mae = -1*cross_val_score(pipe_nn,X,Y,cv=5,scoring='neg_mean_absolute_error')\n",
    "#nn_rmse =-1*cross_val_score(pipe_nn,X,Y,scoring='neg_root_mean_squared_error')\n",
    "#nn_r2 = cross_val_score(pipe_nn,X,Y,cv=5,scoring='r2')\n",
    "#print(nn_mae)\n",
    "#print(nn_rmse)\n",
    "#print(nn_r2)"
   ]
  },
  {
   "cell_type": "markdown",
   "metadata": {},
   "source": [
    "# Comparison Analysis"
   ]
  },
  {
   "cell_type": "markdown",
   "metadata": {},
   "source": [
    "**From the RMSE, MSE and Rsquare scores of the above all the Regression models we can make a inference that KNN model is better than all other models. </br>\n",
    "      RMSE of Linear Regression - 0.8756 </br>\n",
    "      R^2 of Lasso and Ridge Regression - 0.1269</br>\n",
    "      RMSE of KNN - 0.7293 </br>\n",
    "      RMSE of SVR - 0.9456 </br>\n",
    "      But we can clearly see that RMSE value of KNN Model is less compare to other models. In this Model evaluation we have consider the normalized data and we came to conclusion that KNN is the best model for prediction.**\n",
    "      "
   ]
  },
  {
   "cell_type": "markdown",
   "metadata": {},
   "source": [
    "# Conclusion"
   ]
  },
  {
   "cell_type": "markdown",
   "metadata": {},
   "source": [
    "**The Dataset which we have used consist of less correlation among the features so our accuracy is around 50 to 70% which is given by KNN Model. We have not split the data explicitly to test the model instead we have used the 5-fold cross validation test which automatically splits the data in 80-20 split and based various Performance Metrics scores we have came to conclusion that KNN Model is best for our dataset. We have also performed the tuning of parameters of the models by eliminating the less correlated features (attributes) from the datasset and then trained the model. The other Regression models are not so good for our dataset and we can concluded that KNN Model is best for our problem that is Price Prediction of the camera model.**"
   ]
  },
  {
   "cell_type": "markdown",
   "metadata": {},
   "source": [
    "# Contribution\n",
    "# Team Data Pirates \n",
    "**Team Members :**</br>\n",
    "**Phani KumarVedurumudi  - PES2UG19CS281**</br> \n",
    "**Pawan Prasad P - PES2UG19CS280**</br> \n",
    "**G U Deepak - PES2UG19CS124**</br> \n",
    "**Jayanth O - PES2UG19CS163**</br>"
   ]
  }
 ],
 "metadata": {
  "interpreter": {
   "hash": "c2a8e666958dd95318e9c5f986af458e97c68dee8bd4852f77481662c9d41aaa"
  },
  "kernelspec": {
   "display_name": "Python 3",
   "language": "python",
   "name": "python3"
  },
  "language_info": {
   "codemirror_mode": {
    "name": "ipython",
    "version": 3
   },
   "file_extension": ".py",
   "mimetype": "text/x-python",
   "name": "python",
   "nbconvert_exporter": "python",
   "pygments_lexer": "ipython3",
   "version": "3.8.8"
  }
 },
 "nbformat": 4,
 "nbformat_minor": 2
}
